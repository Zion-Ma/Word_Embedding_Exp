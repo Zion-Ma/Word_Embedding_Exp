{
  "nbformat": 4,
  "nbformat_minor": 0,
  "metadata": {
    "colab": {
      "provenance": [],
      "mount_file_id": "1P8OsgBkaeaATfwm7BQOh2Wtl1zhS1YXy",
      "authorship_tag": "ABX9TyPd3Iyh6iWJlb4DVxKGLt0Y",
      "include_colab_link": true
    },
    "kernelspec": {
      "name": "python3",
      "display_name": "Python 3"
    },
    "language_info": {
      "name": "python"
    },
    "gpuClass": "standard"
  },
  "cells": [
    {
      "cell_type": "markdown",
      "metadata": {
        "id": "view-in-github",
        "colab_type": "text"
      },
      "source": [
        "<a href=\"https://colab.research.google.com/github/Zion-Ma/Word_Embedding_Exp/blob/main/word_embedding_with_gensim.ipynb\" target=\"_parent\"><img src=\"https://colab.research.google.com/assets/colab-badge.svg\" alt=\"Open In Colab\"/></a>"
      ]
    },
    {
      "cell_type": "code",
      "execution_count": null,
      "metadata": {
        "colab": {
          "base_uri": "https://localhost:8080/"
        },
        "id": "kbgXdpCZDpR4",
        "outputId": "55cb68b9-9b8f-4e8d-9a54-d7af1f6df2ee"
      },
      "outputs": [
        {
          "output_type": "stream",
          "name": "stderr",
          "text": [
            "[nltk_data] Downloading package stopwords to /root/nltk_data...\n",
            "[nltk_data]   Package stopwords is already up-to-date!\n",
            "[nltk_data] Downloading package punkt to /root/nltk_data...\n",
            "[nltk_data]   Package punkt is already up-to-date!\n"
          ]
        },
        {
          "output_type": "execute_result",
          "data": {
            "text/plain": [
              "True"
            ]
          },
          "metadata": {},
          "execution_count": 11
        }
      ],
      "source": [
        "import nltk\n",
        "import re\n",
        "import string\n",
        "from nltk.tokenize import word_tokenize\n",
        "from nltk.corpus import stopwords\n",
        "nltk.download('stopwords')\n",
        "nltk.download('punkt')"
      ]
    },
    {
      "cell_type": "markdown",
      "source": [
        "# Data Preporcessing Practice"
      ],
      "metadata": {
        "id": "88LKbuvIW120"
      }
    },
    {
      "cell_type": "code",
      "source": [
        "sent = [\"This is the first sentence for word2vec.\",\n",
        "        \"This is the second sentence.\",\n",
        "        \"Yet another sentence\",\n",
        "        \"One more sentence\",\n",
        "        \"And the final sentence\"]\n",
        "\n",
        "def clean_doc(doc):\n",
        "  # split into words\n",
        "  tokens = word_tokenize(doc)\n",
        "  # convert to lower case\n",
        "  tokens = [w.lower() for w in tokens]\n",
        "  # prepare regex for char filtering\n",
        "  re_punc = re.compile('[%s]' % re.escape(string.punctuation))\n",
        "  # remove punctuation from each word\n",
        "  stripped = [re_punc.sub('', w) for w in tokens]\n",
        "  tokens = [word for word in stripped if not (word in string.punctuation)]\n",
        "  return tokens\n",
        "\n",
        "sentences = []\n",
        "for sen in sent:\n",
        "  sentences.append(clean_doc(sen))\n",
        "\n",
        "sentences"
      ],
      "metadata": {
        "colab": {
          "base_uri": "https://localhost:8080/"
        },
        "id": "_ngaO_jyD8hl",
        "outputId": "59b8b1c0-72ca-4f50-8341-33019dfdbc94"
      },
      "execution_count": null,
      "outputs": [
        {
          "output_type": "execute_result",
          "data": {
            "text/plain": [
              "[['this', 'is', 'the', 'first', 'sentence', 'for', 'word2vec'],\n",
              " ['this', 'is', 'the', 'second', 'sentence'],\n",
              " ['yet', 'another', 'sentence'],\n",
              " ['one', 'more', 'sentence'],\n",
              " ['and', 'the', 'final', 'sentence']]"
            ]
          },
          "metadata": {},
          "execution_count": 12
        }
      ]
    },
    {
      "cell_type": "markdown",
      "source": [
        "# Gensim Word2Vector"
      ],
      "metadata": {
        "id": "XbggJ1asXE6Z"
      }
    },
    {
      "cell_type": "markdown",
      "source": [
        " Gensim provides the\n",
        "Word2Vec class for working with a Word2Vec model. Learning a word embedding from text\n",
        "involves loading and organizing the text into sentences and providing them to the constructor\n",
        "of a new Word2Vec() instance\n",
        "\n",
        "After the model is trained, it is accessible via the wv attribute. This is the\n",
        "actual word vector model in which queries can be made.\n",
        "\n",
        "Finally, a trained model can then be saved to file by calling the save word2vec format()\n",
        "function on the word vector model. By default, the model is saved in a binary format to save\n",
        "space.\n",
        "\n",
        "We can tie all of this together with a worked example. Rather than loading a large text\n",
        "document or corpus from file, we will work with a small, in-memory list of pre-tokenized\n",
        "sentences. The model is trained and the minimum count for words is set to 1 so that no words\n",
        "are ignored. After the model is learned, we summarize, print the vocabulary, then print a single\n",
        "vector for the word “sentence”. Finally, the model is saved to a file in binary format, loaded,\n",
        "and then summarized."
      ],
      "metadata": {
        "id": "hPFg7zsguOEt"
      }
    },
    {
      "cell_type": "code",
      "source": [
        "from gensim.models import Word2Vec\n",
        "\n",
        "# train model\n",
        "model = Word2Vec(sentences, min_count=1)\n",
        "# summarize the loaded model\n",
        "print(model)\n",
        "# summarize vocabulary\n",
        "words = list(model.wv.vocab)\n",
        "print(words)\n",
        "# access vector for one word\n",
        "# print(model.wv.__getitem__(\"sentence\"))\n",
        "# save model\n",
        "model.save('model.bin')\n",
        "# load model\n",
        "new_model = Word2Vec.load('model.bin')\n",
        "print(new_model)"
      ],
      "metadata": {
        "colab": {
          "base_uri": "https://localhost:8080/"
        },
        "id": "VEoq0corJsfu",
        "outputId": "8b5c4c56-a894-483f-999a-b30e14426cc9"
      },
      "execution_count": null,
      "outputs": [
        {
          "output_type": "stream",
          "name": "stderr",
          "text": [
            "WARNING:gensim.models.base_any2vec:under 10 jobs per worker: consider setting a smaller `batch_words' for smoother alpha decay\n"
          ]
        },
        {
          "output_type": "stream",
          "name": "stdout",
          "text": [
            "Word2Vec(vocab=14, size=100, alpha=0.025)\n",
            "['this', 'is', 'the', 'first', 'sentence', 'for', 'word2vec', 'second', 'yet', 'another', 'one', 'more', 'and', 'final']\n",
            "Word2Vec(vocab=14, size=100, alpha=0.025)\n"
          ]
        }
      ]
    },
    {
      "cell_type": "markdown",
      "source": [
        "After you learn word embedding for your text data, it can be nice to explore it with visualization.\n",
        "You can use classical projection methods to reduce the high-dimensional word vectors to two\u0002dimensional plots and plot them on a graph. The visualizations can provide a qualitative\n",
        "diagnostic for your learned model.\n",
        "\n",
        "We can create a 2-dimensional PCA model of the word vectors using the scikit-learn PCA class."
      ],
      "metadata": {
        "id": "n32RYderu4NW"
      }
    },
    {
      "cell_type": "code",
      "source": [
        "from sklearn.decomposition import PCA\n",
        "from matplotlib import pyplot\n",
        "\n",
        "# train model\n",
        "model = Word2Vec(sentences, min_count=1)\n",
        "# fit a 2d PCA model to the vectors\n",
        "X = model[model.wv.vocab]\n",
        "pca = PCA(n_components=2)\n",
        "result = pca.fit_transform(X)\n",
        "# create a scatter plot of the projection\n",
        "pyplot.scatter(result[:, 0], result[:, 1])\n",
        "words = list(model.wv.vocab)\n",
        "for i, word in enumerate(words):\n",
        "  pyplot.annotate(word, xy=(result[i, 0], result[i, 1]))\n",
        "pyplot.show()\n"
      ],
      "metadata": {
        "colab": {
          "base_uri": "https://localhost:8080/",
          "height": 337
        },
        "id": "B7U2bP9eKcgZ",
        "outputId": "146dcb69-4e20-4dbf-8763-29e394d2cb36"
      },
      "execution_count": null,
      "outputs": [
        {
          "output_type": "stream",
          "name": "stderr",
          "text": [
            "WARNING:gensim.models.base_any2vec:under 10 jobs per worker: consider setting a smaller `batch_words' for smoother alpha decay\n",
            "/usr/local/lib/python3.7/dist-packages/ipykernel_launcher.py:7: DeprecationWarning: Call to deprecated `__getitem__` (Method will be removed in 4.0.0, use self.wv.__getitem__() instead).\n",
            "  import sys\n"
          ]
        },
        {
          "output_type": "display_data",
          "data": {
            "text/plain": [
              "<Figure size 432x288 with 1 Axes>"
            ],
            "image/png": "[encoded data removed]"
          },
          "metadata": {
            "needs_background": "light"
          }
        }
      ]
    },
    {
      "cell_type": "markdown",
      "source": [
        "# Google’s Word2Vec Embedding"
      ],
      "metadata": {
        "id": "hrIOk5y6XT30"
      }
    },
    {
      "cell_type": "code",
      "source": [
        "# ! gunzip /content/drive/MyDrive/2022_NLP/GoogleNews-vectors-negative300.bin.gz"
      ],
      "metadata": {
        "id": "TBNwjnOxNE-N"
      },
      "execution_count": null,
      "outputs": []
    },
    {
      "cell_type": "code",
      "source": [
        "''' Google Word2Vector, too large for Colab'''\n",
        "\n",
        "# from gensim.models import KeyedVectors\n",
        "\n",
        "# filename = '/content/drive/MyDrive/2022_NLP/GoogleNews-vectors-negative300.bin'\n",
        "# model = KeyedVectors.load_word2vec_format(filename, binary=True)\n",
        "# result = model.most_similar(positive=['woman', 'king'], negative=['man'], topn=1)\n",
        "# print(result)"
      ],
      "metadata": {
        "id": "Ba9YrzB6NPFC",
        "colab": {
          "base_uri": "https://localhost:8080/",
          "height": 35
        },
        "outputId": "f684615b-148b-45a0-ee7e-8a842be865e9"
      },
      "execution_count": null,
      "outputs": [
        {
          "output_type": "execute_result",
          "data": {
            "text/plain": [
              "' Google Word2Vector, too large for Colab'"
            ],
            "application/vnd.google.colaboratory.intrinsic+json": {
              "type": "string"
            }
          },
          "metadata": {},
          "execution_count": 16
        }
      ]
    },
    {
      "cell_type": "markdown",
      "source": [
        "# Stanford’s GloVe Embedding"
      ],
      "metadata": {
        "id": "NMpJqZZ-Xgvq"
      }
    },
    {
      "cell_type": "markdown",
      "source": [
        "Like Word2Vec, the GloVe researchers also provide pre-trained word vectors, in this case, a\n",
        "great selection to choose from. You can download the GloVe pre-trained word vectors and load\n",
        "12.7. Load Stanford’s GloVe Embedding 130\n",
        "them easily with Gensim. The first step is to convert the GloVe file format to the Word2Vec file\n",
        "format. The only difference is the addition of a small header line. This can be done by calling\n",
        "the glove2word2vec() function. \n",
        "\n",
        "Once converted, the file can be loaded just like Word2Vec file above. Let’s make this concrete\n",
        "with an example. You can download the smallest GloVe pre-trained model from the GloVe\n",
        "website. It an 822 Megabyte zip file with 4 different models (50, 100, 200 and 300-dimensional\n",
        "vectors) trained on Wikipedia data with 6 billion tokens and a 400,000 word vocabulary. \n",
        "\n",
        "You now have a copy of the GloVe model in Word2Vec format with the filename\n",
        "glove.6B.100d.txt.word2vec. Now we can load it and perform the same (king - man) +\n",
        "woman = ? test as in the previous section. The complete code listing is provided below. Note\n",
        "that the converted file is ASCII format, not binary, so we set binary=False when loading.\n"
      ],
      "metadata": {
        "id": "9axYv5UWWlOM"
      }
    },
    {
      "cell_type": "code",
      "source": [
        "# ! wget http://nlp.stanford.edu/data/glove.6B.zip\n",
        "# ! unzip glove.6B.zip"
      ],
      "metadata": {
        "colab": {
          "base_uri": "https://localhost:8080/"
        },
        "id": "e8Jr5z7DTKZG",
        "outputId": "41405cd7-3762-499c-b9d7-9642c66285d8"
      },
      "execution_count": null,
      "outputs": [
        {
          "output_type": "stream",
          "name": "stdout",
          "text": [
            "--2022-11-20 14:08:45--  http://nlp.stanford.edu/data/glove.6B.zip\n",
            "Resolving nlp.stanford.edu (nlp.stanford.edu)... 171.64.67.140\n",
            "Connecting to nlp.stanford.edu (nlp.stanford.edu)|171.64.67.140|:80... connected.\n",
            "HTTP request sent, awaiting response... 302 Found\n",
            "Location: https://nlp.stanford.edu/data/glove.6B.zip [following]\n",
            "--2022-11-20 14:08:45--  https://nlp.stanford.edu/data/glove.6B.zip\n",
            "Connecting to nlp.stanford.edu (nlp.stanford.edu)|171.64.67.140|:443... connected.\n",
            "HTTP request sent, awaiting response... 301 Moved Permanently\n",
            "Location: https://downloads.cs.stanford.edu/nlp/data/glove.6B.zip [following]\n",
            "--2022-11-20 14:08:45--  https://downloads.cs.stanford.edu/nlp/data/glove.6B.zip\n",
            "Resolving downloads.cs.stanford.edu (downloads.cs.stanford.edu)... 171.64.64.22\n",
            "Connecting to downloads.cs.stanford.edu (downloads.cs.stanford.edu)|171.64.64.22|:443... connected.\n",
            "HTTP request sent, awaiting response... 200 OK\n",
            "Length: 862182613 (822M) [application/zip]\n",
            "Saving to: ‘glove.6B.zip.1’\n",
            "\n",
            "glove.6B.zip.1       14%[=>                  ] 117.30M  5.04MB/s    eta 2m 3s  ^C\n",
            "Archive:  glove.6B.zip\n",
            "replace glove.6B.50d.txt? [y]es, [n]o, [A]ll, [N]one, [r]ename: "
          ]
        }
      ]
    },
    {
      "cell_type": "code",
      "source": [
        "from gensim.scripts.glove2word2vec import glove2word2vec\n",
        "\n",
        "glove_input_file = '/content/glove.6B.100d.txt'\n",
        "word2vec_output_file = 'glove.6B.100d.txt.word2vec'\n",
        "glove2word2vec(glove_input_file, word2vec_output_file)\n"
      ],
      "metadata": {
        "colab": {
          "base_uri": "https://localhost:8080/"
        },
        "id": "fTIJ5l2sR97J",
        "outputId": "6f6f0cc5-8eb0-446f-eeb3-e09732213f65"
      },
      "execution_count": null,
      "outputs": [
        {
          "output_type": "execute_result",
          "data": {
            "text/plain": [
              "(400000, 100)"
            ]
          },
          "metadata": {},
          "execution_count": 18
        }
      ]
    },
    {
      "cell_type": "code",
      "source": [
        "from gensim.models import KeyedVectors\n",
        "# load the Stanford GloVe model\n",
        "filename = '/content/glove.6B.100d.txt.word2vec'\n",
        "model = KeyedVectors.load_word2vec_format(filename, binary=False)\n",
        "# calculate: (king - man) + woman = ?\n",
        "result = model.most_similar(positive=['woman', 'king'], negative=['man'], topn=1)\n",
        "print(result)\n"
      ],
      "metadata": {
        "colab": {
          "base_uri": "https://localhost:8080/"
        },
        "id": "v_Ra6mouTWwk",
        "outputId": "ba808c24-ba69-438e-9511-45cc15b13d81"
      },
      "execution_count": null,
      "outputs": [
        {
          "output_type": "stream",
          "name": "stdout",
          "text": [
            "[('queen', 0.7698541283607483)]\n"
          ]
        }
      ]
    },
    {
      "cell_type": "code",
      "source": [
        "result = model.most_similar(positive=['man', 'alcohol'], negative=['beer'], topn=1)\n",
        "print(result)"
      ],
      "metadata": {
        "colab": {
          "base_uri": "https://localhost:8080/"
        },
        "id": "irPaEqAnVK_U",
        "outputId": "40c85164-7016-4fb0-c54b-d8761b64b4ce"
      },
      "execution_count": null,
      "outputs": [
        {
          "output_type": "stream",
          "name": "stdout",
          "text": [
            "[('victim', 0.6988980770111084)]\n"
          ]
        }
      ]
    },
    {
      "cell_type": "code",
      "source": [
        "# ! mv /content/glove.6B.100d.txt /content/drive/MyDrive/2022_NLP/GloVe/\n",
        "# ! mv /content/glove.6B.100d.txt.word2vec /content/drive/MyDrive/2022_NLP/GloVe/\n",
        "# ! mv /content/glove.6B.200d.txt /content/drive/MyDrive/2022_NLP/GloVe/\n",
        "# ! mv /content/glove.6B.300d.txt /content/drive/MyDrive/2022_NLP/GloVe/\n",
        "# ! mv /content/glove.6B.50d.txt /content/drive/MyDrive/2022_NLP/GloVe/"
      ],
      "metadata": {
        "id": "zpzBc1PeVx3M"
      },
      "execution_count": null,
      "outputs": []
    },
    {
      "cell_type": "code",
      "source": [],
      "metadata": {
        "id": "HhYdX85qYntp"
      },
      "execution_count": null,
      "outputs": []
    }
  ]
}